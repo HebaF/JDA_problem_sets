{
  "nbformat": 4,
  "nbformat_minor": 0,
  "metadata": {
    "colab": {
      "provenance": [],
      "collapsed_sections": [
        "T9as0QhcUYGQ",
        "uDfaTEQnclxe"
      ],
      "toc_visible": true,
      "authorship_tag": "ABX9TyNoQrYRtcZRTMCFMvoBD8Me",
      "include_colab_link": true
    },
    "kernelspec": {
      "name": "python3",
      "display_name": "Python 3"
    },
    "language_info": {
      "name": "python"
    }
  },
  "cells": [
    {
      "cell_type": "markdown",
      "metadata": {
        "id": "view-in-github",
        "colab_type": "text"
      },
      "source": [
        "<a href=\"https://colab.research.google.com/github/HebaF/JDA_problem_sets/blob/main/Copy_of_Lists_Dictionaries_Loops_Python_Intro.ipynb\" target=\"_parent\"><img src=\"https://colab.research.google.com/assets/colab-badge.svg\" alt=\"Open In Colab\"/></a>"
      ]
    },
    {
      "cell_type": "markdown",
      "source": [
        "##Lists and Indexing"
      ],
      "metadata": {
        "id": "WYNAZ0oCXGO5"
      }
    },
    {
      "cell_type": "code",
      "source": [
        "my_list = [1, 2, 3, 4, 5]\n",
        "reversed_list = my_list[::-1]#start at default value (first colon), go to default stop value (second colon), and step backwards by 1 each time\n",
        "print(reversed_list)"
      ],
      "metadata": {
        "colab": {
          "base_uri": "https://localhost:8080/"
        },
        "id": "doxARet3RTQn",
        "outputId": "1b99f53d-01f3-4fb4-c153-082b9e640a21"
      },
      "execution_count": null,
      "outputs": [
        {
          "output_type": "stream",
          "name": "stdout",
          "text": [
            "[5, 4, 3, 2, 1]\n"
          ]
        }
      ]
    },
    {
      "cell_type": "code",
      "source": [
        "# We can use the same logic in a more complex sequence of operations to invert a sentence (the way Yoda would!)\n",
        "sentence = \"I Am Hungry\"\n",
        "words = sentence.split()  # Convert to list of words\n",
        "reversed_sentence = \" \".join(words[::-1])\n",
        "print(reversed_sentence)"
      ],
      "metadata": {
        "colab": {
          "base_uri": "https://localhost:8080/"
        },
        "id": "hmNJwf7PV2nB",
        "outputId": "4f74f315-8ad2-4895-b4f0-c1764fe18594"
      },
      "execution_count": null,
      "outputs": [
        {
          "output_type": "stream",
          "name": "stdout",
          "text": [
            "Hungry Am I\n"
          ]
        }
      ]
    },
    {
      "cell_type": "markdown",
      "source": [
        "##Dictionaries, Tuples, and the Modulo Operator"
      ],
      "metadata": {
        "id": "L-4D0hb6XWao"
      }
    },
    {
      "cell_type": "code",
      "source": [
        "numbers = [1, 2, 3, 4, 5, 6, 7, 8, 9, 10, 11]\n",
        "odds = [x for x in numbers if x % 2 != 0] #introducing the modulo operator: \"%\"\n",
        "#modulo returns the remainder (i.e. the whole number you have left over after you divide two numbers (may be 0))\n",
        "#important note: modulo can also be used for string formatting (not covered here)\n",
        "print(odds)"
      ],
      "metadata": {
        "colab": {
          "base_uri": "https://localhost:8080/"
        },
        "id": "6HwknIBqQBRA",
        "outputId": "3b65288b-84fa-4e06-f8e8-21ef3cea11ee"
      },
      "execution_count": null,
      "outputs": [
        {
          "output_type": "stream",
          "name": "stdout",
          "text": [
            "[1, 3, 5, 7, 9, 11]\n"
          ]
        }
      ]
    },
    {
      "cell_type": "code",
      "execution_count": null,
      "metadata": {
        "colab": {
          "base_uri": "https://localhost:8080/"
        },
        "id": "20SUhD4or3e7",
        "outputId": "8c66c85e-4856-4584-c5a2-e4fdc7857e42"
      },
      "outputs": [
        {
          "output_type": "stream",
          "name": "stdout",
          "text": [
            "Point A\n"
          ]
        }
      ],
      "source": [
        "# Tuple as a dictionary key (hashable)\n",
        "coords = {(0, 0): \"Origin\", (1, 2): \"Point A\"}\n",
        "print(coords[(1, 2)])  # Output: \"Point A\""
      ]
    },
    {
      "cell_type": "code",
      "source": [
        "# List as a dictionary key (not hashable)\n",
        "invalid_key = {[1, 2]: \"Invalid\"}  # TypeError: unhashable type: 'list'"
      ],
      "metadata": {
        "colab": {
          "base_uri": "https://localhost:8080/",
          "height": 159
        },
        "id": "o77ywtddNcet",
        "outputId": "71f597c0-a0b9-432e-86f6-6b89cc2bf27e"
      },
      "execution_count": null,
      "outputs": [
        {
          "output_type": "error",
          "ename": "TypeError",
          "evalue": "unhashable type: 'list'",
          "traceback": [
            "\u001b[0;31m---------------------------------------------------------------------------\u001b[0m",
            "\u001b[0;31mTypeError\u001b[0m                                 Traceback (most recent call last)",
            "\u001b[0;32m<ipython-input-5-fb2ccb18804e>\u001b[0m in \u001b[0;36m<cell line: 2>\u001b[0;34m()\u001b[0m\n\u001b[1;32m      1\u001b[0m \u001b[0;31m# List as a dictionary key (not hashable)\u001b[0m\u001b[0;34m\u001b[0m\u001b[0;34m\u001b[0m\u001b[0m\n\u001b[0;32m----> 2\u001b[0;31m \u001b[0minvalid_key\u001b[0m \u001b[0;34m=\u001b[0m \u001b[0;34m{\u001b[0m\u001b[0;34m[\u001b[0m\u001b[0;36m1\u001b[0m\u001b[0;34m,\u001b[0m \u001b[0;36m2\u001b[0m\u001b[0;34m]\u001b[0m\u001b[0;34m:\u001b[0m \u001b[0;34m\"Invalid\"\u001b[0m\u001b[0;34m}\u001b[0m  \u001b[0;31m# TypeError: unhashable type: 'list'\u001b[0m\u001b[0;34m\u001b[0m\u001b[0;34m\u001b[0m\u001b[0m\n\u001b[0m",
            "\u001b[0;31mTypeError\u001b[0m: unhashable type: 'list'"
          ]
        }
      ]
    },
    {
      "cell_type": "code",
      "source": [
        "#Phonebook Example\n",
        "phonebook = {\"Peter\": \"555-2368\", \"Kat\": \"804-222-1111\"}\n",
        "\n",
        "# Add a new contact\n",
        "phonebook[\"Rick\"] = \"248-434-5508\"\n",
        "\n",
        "# Search for a contact\n",
        "name = input(\"Enter a name: \")\n",
        "if name in phonebook:\n",
        "    print(f\"{name}'s number is {phonebook[name]}\") #the f-string (starting with f\") in python helps us print variable names using curly braces at specific places\n",
        "else:\n",
        "    print(f\"{name} not found.\")"
      ],
      "metadata": {
        "id": "l1T_r8bOeBGh"
      },
      "execution_count": null,
      "outputs": []
    },
    {
      "cell_type": "code",
      "source": [
        "#Road Trip Inventory\n",
        "inventory = {\"granola bar\": 6, \"potato chips\": 2, \"water\": 1}\n",
        "\n",
        "# Add or update items\n",
        "inventory[\"potato chips\"] += 2  # Bought 2 more bags of potato chips\n",
        "inventory[\"coffee\"] = 1    # Bought a coffee\n",
        "\n",
        "# Display inventory\n",
        "print(\"Your Inventory:\")\n",
        "for item, quantity in inventory.items():\n",
        "    print(f\"{item}: {quantity}\")"
      ],
      "metadata": {
        "id": "fVfxUXbFehnZ"
      },
      "execution_count": null,
      "outputs": []
    },
    {
      "cell_type": "code",
      "source": [
        "#Pop Quiz\n",
        "#takes user input and uses the .lower() string method\n",
        "quiz = {\n",
        "    \"What is the capital city of Canada?\": \"Ottawa\",\n",
        "}\n",
        "\n",
        "score = 0\n",
        "\n",
        "# Loop through questions\n",
        "for question, answer in quiz.items():\n",
        "    user_answer = input(question + \" \")\n",
        "    if user_answer.lower() == answer.lower():\n",
        "        print(\"Correct!\")\n",
        "        score += 1\n",
        "    else:\n",
        "        print(f\"Wrong! The correct answer is {answer}\")\n",
        "\n",
        "print(f\"Your score: {score}/{len(quiz)}\") #f-string"
      ],
      "metadata": {
        "id": "1wH60bu2e68r"
      },
      "execution_count": null,
      "outputs": []
    },
    {
      "cell_type": "markdown",
      "source": [
        "##For Loops and the Range Function"
      ],
      "metadata": {
        "id": "jqnBqOKzXLzA"
      }
    },
    {
      "cell_type": "code",
      "source": [
        "for x in range(1, 11):\n",
        "    print(x) #output: numbers from 1 to 10 (up to number n-1, where n represents the \"stop\" value in range)"
      ],
      "metadata": {
        "id": "fcB85AWlNkcd"
      },
      "execution_count": null,
      "outputs": []
    },
    {
      "cell_type": "code",
      "source": [
        "for x in range(1, 11, 2):\n",
        "    print(x) #output: every other number (i.e. every odd number) from 1 to 10 (step size parameter is now 2)"
      ],
      "metadata": {
        "id": "j2Eq6Ft5N5Qc"
      },
      "execution_count": null,
      "outputs": []
    },
    {
      "cell_type": "code",
      "source": [
        "#this example takes user input to output the n-times-table\n",
        "num = int(input(\"Enter a number for the multiplication table: \"))\n",
        "for i in range(1, 13):\n",
        "    print(f\"{num} x {i} = {num * i}\") #f-string"
      ],
      "metadata": {
        "id": "-1LIvjcZgHpi"
      },
      "execution_count": null,
      "outputs": []
    },
    {
      "cell_type": "markdown",
      "source": [
        "##When we put one for loop inside of another, this is called \"nesting\" for loops"
      ],
      "metadata": {
        "id": "XVPQr18mfOQy"
      }
    },
    {
      "cell_type": "code",
      "source": [
        "#Nested Dictionary Example\n",
        "employees = {\n",
        "    \"emp1\": {\"name\": \"Ela\", \"IQ\": 300, \"role\": \"Technical Instructor\"},\n",
        "    \"emp2\": {\"name\": \"Saudia\", \"IQ\": 300, \"role\": \"Career Specialist\"},\n",
        "}\n",
        "\n",
        "# Access nested data\n",
        "for emp, details in employees.items():\n",
        "    print(f\"Employee ID: {emp}\") #f-string\n",
        "    for key, value in details.items():\n",
        "        print(f\"  {key}: {value}\") #f-string"
      ],
      "metadata": {
        "id": "FtfVjWKIfDw6"
      },
      "execution_count": null,
      "outputs": []
    },
    {
      "cell_type": "code",
      "source": [
        "#Bubble Sort Algorithm\n",
        "#How can we sort an unordered list of numbers?\n",
        "#Start at the beginning of the list and compare each number to its neighbour\n",
        "#If the first number is greater than the second, swap the positions of the two numbers in the pair\n",
        "#(If not, do nothing and move on to the next pair of number-neighbours)\n",
        "numbers = [64, 34, 25, 12, 22, 11, 90]\n",
        "\n",
        "for i in range(len(numbers)):\n",
        "    for j in range(0, len(numbers) - i - 1):\n",
        "        if numbers[j] > numbers[j + 1]:\n",
        "            numbers[j], numbers[j + 1] = numbers[j + 1], numbers[j]\n",
        "\n",
        "print(\"Sorted list:\", numbers)"
      ],
      "metadata": {
        "id": "fYZKy--YfanK"
      },
      "execution_count": null,
      "outputs": []
    },
    {
      "cell_type": "markdown",
      "source": [
        "##While Loops"
      ],
      "metadata": {
        "id": "gzrWLVw8cLgZ"
      }
    },
    {
      "cell_type": "code",
      "source": [
        "#Traffic Lights\n",
        "#reminder: while loops are often used to:\n",
        "#a) check for values of continuously updating variables\n",
        "#b) \"wait\" for a cue/external signal\n",
        "import time #import the time module (it is not necessary to learn about this)\n",
        "\n",
        "lights = [\"Red\", \"Yellow\", \"Green\"]\n",
        "\n",
        "while True:\n",
        "    for light in lights:\n",
        "        print(f\"Traffic Light: {light}\") #f-string\n",
        "        time.sleep(2)\n",
        "    break"
      ],
      "metadata": {
        "id": "_DK59JcfcDKR"
      },
      "execution_count": null,
      "outputs": []
    },
    {
      "cell_type": "markdown",
      "source": [
        "##Combining Concepts in Practice"
      ],
      "metadata": {
        "id": "29PtfKFKXvWx"
      }
    },
    {
      "cell_type": "code",
      "source": [
        "#Play Tic-Tac-Toe with me!\n",
        "# 3x3 grid initialized with empty spaces\n",
        "board = [[\" \" for _ in range(3)] for _ in range(3)]\n",
        "board[0][0] = \"X\"  # Place 'X' in the top-left corner\n",
        "board[1][1] = \"O\"  # Place 'O' in the center"
      ],
      "metadata": {
        "id": "sqBP5mCfNnlc"
      },
      "execution_count": null,
      "outputs": []
    },
    {
      "cell_type": "markdown",
      "source": [
        "To play tic-tac-toe, update the board with X's and O's at new coordinates, then print"
      ],
      "metadata": {
        "id": "gO7y7NFwPQqu"
      }
    },
    {
      "cell_type": "code",
      "source": [
        "# Print the board\n",
        "for row in board:\n",
        "    print(\" | \".join(row))"
      ],
      "metadata": {
        "id": "yAE7H3e3QwBV"
      },
      "execution_count": null,
      "outputs": []
    },
    {
      "cell_type": "code",
      "source": [
        "#loading bar\n",
        "import time #import the time module (you are not required to learn about this)\n",
        "\n",
        "print(\"\\n Checking JDA Program Progress\")\n",
        "\n",
        "loading = [\"[          ]\", \"[=         ]\", \"[==        ]\", \"[===       ]\",\n",
        "           \"[====      ]\", \"[=====     ]\"]\n",
        "\n",
        "for frame in loading:\n",
        "    print(\"\\r\" + frame, end=\"\")  # \\r is the carriage return, used here to overwrite the line\n",
        "    # using \\r is similar to bringing your cursor to the start of the line and typing the characters after the \\r by pressing the insert key\n",
        "    time.sleep(0.3)\n",
        "print(\"\\n Half-Way Done!\")"
      ],
      "metadata": {
        "id": "4YKvZOqOROKA"
      },
      "execution_count": null,
      "outputs": []
    },
    {
      "cell_type": "markdown",
      "source": [
        "##Exercise 1: Create Loading Bar Version 2\n",
        "\n",
        "Try using \"[\", \"]\", \"=\", and * in your code to recreate the loading bar"
      ],
      "metadata": {
        "id": "T9as0QhcUYGQ"
      }
    },
    {
      "cell_type": "code",
      "source": [
        "#loading bar v2\n",
        "import time #import the time module\n",
        "\n",
        "print(\"\\n Checking JDA Program Progress\")\n",
        "\n",
        "#[Your Code Here]\n",
        "\n",
        "for frame_v2 in #[Your Code Here]\n",
        "    print(\"\\r\" + frame_v2, end=\"\")  # Overwrite line\n",
        "    time.sleep(0.3)\n",
        "print(\"\\n Half-Way Done!\")"
      ],
      "metadata": {
        "id": "w8uHx1IZThzA"
      },
      "execution_count": null,
      "outputs": []
    },
    {
      "cell_type": "markdown",
      "source": [
        "###sample answer to loading bar v2 exercise:\n",
        "\n",
        "---\n",
        "\n"
      ],
      "metadata": {
        "id": "BVNlefjbYIvA"
      }
    },
    {
      "cell_type": "code",
      "source": [
        "print(\"\\n Checking JDA Program Progress\")\n",
        "\n",
        "length = 10  # total length of the loading bar (excluding brackets)\n",
        "half_length = length//2 #\"//\" is the floor division operator (will round down division output to nearest whole number)\n",
        "\n",
        "# Use a for loop to generate each frame dynamically\n",
        "for i in range(half_length + 1):\n",
        "    # '=' repeated i times, and spaces repeated (length - i) times\n",
        "    equals = \"=\" * i\n",
        "    spaces = \" \" * (length - i)\n",
        "\n",
        "    frame = \"[\" + equals + spaces + \"]\"\n",
        "    print(\"\\r\" + frame, end=\"\")\n",
        "    time.sleep(0.3)\n",
        "\n",
        "print(\"\\n Half-Way Done!\")"
      ],
      "metadata": {
        "id": "coIngYlCYFHw"
      },
      "execution_count": null,
      "outputs": []
    },
    {
      "cell_type": "code",
      "source": [
        "# Loop time! Print an ASCII Xmas Tree\n",
        "height = 5\n",
        "for i in range(1, height + 1):\n",
        "    print(\" \" * (height - i) + \"*\" * (2 * i - 1)) #print the desired number of spaces and the desired number of \"*\" shapes to outline an xmas tree"
      ],
      "metadata": {
        "id": "ACDpCbISbkr5"
      },
      "execution_count": null,
      "outputs": []
    },
    {
      "cell_type": "markdown",
      "source": [
        "##Exercise 2: How can I print a checkerboard pattern using the same logic as the xmas tree?\n",
        "\n",
        "*   Use \"█\" symbols and \" \" empty spaces\n",
        "*   Use the modulo operator (%)\n",
        "\n",
        "\n",
        "\n"
      ],
      "metadata": {
        "id": "uDfaTEQnclxe"
      }
    },
    {
      "cell_type": "markdown",
      "source": [
        "#####sample answer to Exercise 2 (Checkerboard):"
      ],
      "metadata": {
        "id": "F7Qgr4eNdYxa"
      }
    },
    {
      "cell_type": "code",
      "source": [
        "for i in range(8):\n",
        "    for j in range(8):\n",
        "        if (i + j) % 2 == 0:\n",
        "            print(\"█\", end=\" \")\n",
        "        else:\n",
        "            print(\" \", end=\" \")\n",
        "    print()"
      ],
      "metadata": {
        "id": "YcLrGus8b2vR"
      },
      "execution_count": null,
      "outputs": []
    }
  ]
}